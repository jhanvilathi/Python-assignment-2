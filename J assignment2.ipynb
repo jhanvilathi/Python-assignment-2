{
 "cells": [
  {
   "cell_type": "markdown",
   "id": "060022bb-377a-4860-96e8-8a5e4b641568",
   "metadata": {},
   "source": [
    "Que1. Discuss string slicing and provide examples."
   ]
  },
  {
   "cell_type": "markdown",
   "id": "cd149285-2503-4344-8cf5-699de9df087c",
   "metadata": {},
   "source": [
    "String slicing in Python is a way to access a portion or \"slice\" of a string. Strings in Python are sequences of characters, and each character in a string has an index number. The first character has an index of 0, the second has an index of 1, and so on. Negative indices can be used to start counting from the end of the string, where -1 is the last character."
   ]
  },
  {
   "cell_type": "markdown",
   "id": "19ad4102-69c4-457a-bc9e-203c90a14f78",
   "metadata": {},
   "source": [
    "Description: \n",
    "Characters arranged in an unchangeable order. Consider writing a sentence, a paragraph, or a piece of material."
   ]
  },
  {
   "cell_type": "markdown",
   "id": "4cbc46ba-58fc-4ee1-963a-dfcc79e0a9af",
   "metadata": {},
   "source": [
    "Operations: \n",
    "Each character in the string can be accessed by its index, or position. Substrings can be extracted using slicing. Strings can be joined together and altered using a variety of techniques "
   ]
  },
  {
   "cell_type": "markdown",
   "id": "610bffb4-cc76-43a8-81a5-73eac2664dad",
   "metadata": {},
   "source": [
    "Syntax of String Slicing\n",
    "\n",
    "The general syntax for string slicing is:\n",
    "\n",
    "python\n",
    "string[start:stop:step]"
   ]
  },
  {
   "cell_type": "markdown",
   "id": "aeda4ade-6a16-473d-9870-17715be9ed14",
   "metadata": {},
   "source": [
    "start: The index at which the slice starts (inclusive). If omitted, it defaults to the beginning of the string.\n",
    "- stop: The index at which the slice stops (exclusive). If omitted, it defaults to the end of the string.\n",
    "- step: The interval between each character in the slice. If omitted, it defaults to 1."
   ]
  },
  {
   "cell_type": "markdown",
   "id": "fb5e5152-668d-4196-8312-bd2bef97a0a3",
   "metadata": {},
   "source": [
    "Examples:"
   ]
  },
  {
   "cell_type": "markdown",
   "id": "8dc447da-cb57-4e73-8bc3-72ab1838f36c",
   "metadata": {},
   "source": [
    "Basic Slicing"
   ]
  },
  {
   "cell_type": "code",
   "execution_count": 15,
   "id": "df4cfdfe-f749-466b-a853-e44f9ad97918",
   "metadata": {},
   "outputs": [],
   "source": [
    "text = \"I am Jhanvi\""
   ]
  },
  {
   "cell_type": "code",
   "execution_count": 13,
   "id": "2152e1ba-0346-4f4e-879d-f900b4a161c8",
   "metadata": {},
   "outputs": [
    {
     "data": {
      "text/plain": [
       "'I am '"
      ]
     },
     "execution_count": 13,
     "metadata": {},
     "output_type": "execute_result"
    }
   ],
   "source": [
    "text[0:5] #Slice from index 0 to 5"
   ]
  },
  {
   "cell_type": "code",
   "execution_count": 17,
   "id": "d02b0063-c7f6-4b51-832d-96eaf5afd526",
   "metadata": {},
   "outputs": [
    {
     "data": {
      "text/plain": [
       "'Jhanvi'"
      ]
     },
     "execution_count": 17,
     "metadata": {},
     "output_type": "execute_result"
    }
   ],
   "source": [
    "text[5:] # lice from index 7 to the end"
   ]
  },
  {
   "cell_type": "code",
   "execution_count": 19,
   "id": "8c174a56-cbee-4a61-9dcd-2fc8696ba29c",
   "metadata": {},
   "outputs": [
    {
     "data": {
      "text/plain": [
       "'I am '"
      ]
     },
     "execution_count": 19,
     "metadata": {},
     "output_type": "execute_result"
    }
   ],
   "source": [
    "text[:5] #Slice from the beginning to index 5"
   ]
  },
  {
   "cell_type": "markdown",
   "id": "b83a40ae-da06-45a1-8686-4c7f9f0ea48a",
   "metadata": {},
   "source": [
    "Using Negative Indices"
   ]
  },
  {
   "cell_type": "code",
   "execution_count": 22,
   "id": "c7ec5778-c1ad-4795-9689-6292b419b36d",
   "metadata": {},
   "outputs": [],
   "source": [
    "text = \"I am Jhanvi\""
   ]
  },
  {
   "cell_type": "code",
   "execution_count": 24,
   "id": "c85f8f8b-c743-46f1-b046-a8a05c97854e",
   "metadata": {},
   "outputs": [
    {
     "data": {
      "text/plain": [
       "'Jhanvi'"
      ]
     },
     "execution_count": 24,
     "metadata": {},
     "output_type": "execute_result"
    }
   ],
   "source": [
    "text[-6:] # Slice the last 6 characters\""
   ]
  },
  {
   "cell_type": "code",
   "execution_count": 26,
   "id": "d8a5198c-b5e1-40eb-8d2b-c77dd6796e3e",
   "metadata": {},
   "outputs": [
    {
     "data": {
      "text/plain": [
       "'I am '"
      ]
     },
     "execution_count": 26,
     "metadata": {},
     "output_type": "execute_result"
    }
   ],
   "source": [
    "text[:-6] #Slice everything except the last character"
   ]
  },
  {
   "cell_type": "markdown",
   "id": "75376c7b-92ca-44f5-9c97-1c5809c8c08c",
   "metadata": {},
   "source": [
    " Using Step"
   ]
  },
  {
   "cell_type": "code",
   "execution_count": 29,
   "id": "242be388-eb67-4e57-b69b-20ff691fafd1",
   "metadata": {},
   "outputs": [],
   "source": [
    "text = \"I am Jhanvi\" # Slice every second character"
   ]
  },
  {
   "cell_type": "code",
   "execution_count": 31,
   "id": "bbe4b794-3251-469c-b7f1-89ec8d50b964",
   "metadata": {},
   "outputs": [
    {
     "data": {
      "text/plain": [
       "'Ia hni'"
      ]
     },
     "execution_count": 31,
     "metadata": {},
     "output_type": "execute_result"
    }
   ],
   "source": [
    "text[::2]"
   ]
  },
  {
   "cell_type": "code",
   "execution_count": 34,
   "id": "dbfc697d-4879-4c15-b361-61f7de5a7a88",
   "metadata": {},
   "outputs": [
    {
     "data": {
      "text/plain": [
       "'ivnahJ ma I'"
      ]
     },
     "execution_count": 34,
     "metadata": {},
     "output_type": "execute_result"
    }
   ],
   "source": [
    "text[::-1] # Reverse the string"
   ]
  },
  {
   "cell_type": "markdown",
   "id": "16f7d91b-4e93-40ca-9194-bdb18812a32b",
   "metadata": {},
   "source": [
    "Omitting Indices"
   ]
  },
  {
   "cell_type": "code",
   "execution_count": 39,
   "id": "39b30aa8-df60-4863-9a9c-733fec167166",
   "metadata": {},
   "outputs": [],
   "source": [
    "text = \"I am Jhanvi\""
   ]
  },
  {
   "cell_type": "code",
   "execution_count": 41,
   "id": "fe89494a-3ba0-4b6b-9746-240391cb128e",
   "metadata": {},
   "outputs": [
    {
     "data": {
      "text/plain": [
       "'I am Jhanvi'"
      ]
     },
     "execution_count": 41,
     "metadata": {},
     "output_type": "execute_result"
    }
   ],
   "source": [
    "text[:] #Full string"
   ]
  },
  {
   "cell_type": "code",
   "execution_count": 43,
   "id": "67ac85a7-7bb7-424f-ba13-a1d9229b95e9",
   "metadata": {},
   "outputs": [
    {
     "data": {
      "text/plain": [
       "'I am '"
      ]
     },
     "execution_count": 43,
     "metadata": {},
     "output_type": "execute_result"
    }
   ],
   "source": [
    "text[:5] # Slice from the beginning to index 5, omitting the start"
   ]
  },
  {
   "cell_type": "code",
   "execution_count": 45,
   "id": "3c27255f-8b42-4351-bb92-0c26e6f870e1",
   "metadata": {},
   "outputs": [
    {
     "data": {
      "text/plain": [
       "'Jhanvi'"
      ]
     },
     "execution_count": 45,
     "metadata": {},
     "output_type": "execute_result"
    }
   ],
   "source": [
    "text[5:] # Slice from index 7 to the end, omitting the end"
   ]
  },
  {
   "cell_type": "markdown",
   "id": "a3c10f15-14aa-43a8-b4ab-ab2f60ae91d3",
   "metadata": {},
   "source": [
    "Common Uses of String Slicing"
   ]
  },
  {
   "cell_type": "markdown",
   "id": "5bc280d8-b274-4464-855f-98ec350cc178",
   "metadata": {},
   "source": [
    "Extracting substrings: You can easily get any part of the string by specifying the desired range of indices.\n",
    "- Reversing a string: By using a step of -1, you can quickly reverse the string.\n",
    "- Skipping characters: By using a step greater than 1, you can create a slice that skips characters."
   ]
  },
  {
   "cell_type": "markdown",
   "id": "02c6646c-507d-4deb-ba37-f001459eabc4",
   "metadata": {},
   "source": [
    "String slicing is a powerful feature in Python that allows for flexible and efficient string manipulation."
   ]
  },
  {
   "cell_type": "markdown",
   "id": "58d1ea5e-384e-40b1-849f-6500659e6e64",
   "metadata": {},
   "source": [
    "Que2. Explain the key features of lists in python."
   ]
  },
  {
   "cell_type": "markdown",
   "id": "f5dcec6f-06cd-4ce8-85d3-02aef4c0083a",
   "metadata": {},
   "source": [
    "Lists in Python are one of the most versatile and commonly used data structures. They are ordered, mutable (i.e., changeable), and can store elements of different data types. Here are the key features of lists in Python:"
   ]
  },
  {
   "cell_type": "markdown",
   "id": "6c2ffe27-743c-4c28-b2d6-fb6f041fc8fc",
   "metadata": {},
   "source": [
    "1. *Ordered Collection*"
   ]
  },
  {
   "cell_type": "markdown",
   "id": "c166a98e-67eb-40cf-b4d6-f3a9d1662d75",
   "metadata": {},
   "source": [
    "Lists maintain the order of elements as they were inserted. This means that if you create a list, the elements will remain in the same sequence unless explicitly modified."
   ]
  },
  {
   "cell_type": "code",
   "execution_count": 59,
   "id": "6d284bc7-f58b-47da-be50-8fe0a34b14ca",
   "metadata": {},
   "outputs": [
    {
     "data": {
      "text/plain": [
       "[1, 2, 3, 4, 5]"
      ]
     },
     "execution_count": 59,
     "metadata": {},
     "output_type": "execute_result"
    }
   ],
   "source": [
    "list_collection = [1,2,3,4,5]\n",
    "list_collection"
   ]
  },
  {
   "cell_type": "markdown",
   "id": "bc274b06-db54-49c3-ac21-f8d536aae501",
   "metadata": {},
   "source": [
    "2. Mutable"
   ]
  },
  {
   "cell_type": "markdown",
   "id": "ad67087b-681c-4b73-b170-2ec1d0ab92e9",
   "metadata": {},
   "source": [
    "Lists are mutable, which means you can change, add, or remove elements after the list has been created."
   ]
  },
  {
   "cell_type": "code",
   "execution_count": 62,
   "id": "63cb542d-dc8f-415f-be02-23f43c27ca8c",
   "metadata": {},
   "outputs": [],
   "source": [
    "list = [\"apple\", \"grapes\",\"orange\"]\n",
    "list[1] = \"mango\""
   ]
  },
  {
   "cell_type": "code",
   "execution_count": 64,
   "id": "5ee26696-0765-47aa-8236-ad4a1aec2033",
   "metadata": {},
   "outputs": [
    {
     "data": {
      "text/plain": [
       "['apple', 'mango', 'orange']"
      ]
     },
     "execution_count": 64,
     "metadata": {},
     "output_type": "execute_result"
    }
   ],
   "source": [
    "list"
   ]
  },
  {
   "cell_type": "markdown",
   "id": "7cfa69fd-4540-4c94-b915-0c21b73cb7b6",
   "metadata": {},
   "source": [
    "3. Dynamic Size"
   ]
  },
  {
   "cell_type": "markdown",
   "id": "3f82a4dc-2ed3-43ca-a5b5-8e6fb3cbfe14",
   "metadata": {},
   "source": [
    "Lists can grow and shrink in size as you add or remove elements. You don’t need to declare the size of a list when you create it."
   ]
  },
  {
   "cell_type": "code",
   "execution_count": 68,
   "id": "214755f5-d32e-4f02-8c28-7dae2f29abc5",
   "metadata": {},
   "outputs": [],
   "source": [
    "list = [\"apple\", \"grapes\",\"orange\"]\n",
    "list.append(\"mango\")"
   ]
  },
  {
   "cell_type": "code",
   "execution_count": 70,
   "id": "6718f789-9fc7-4c54-a04a-9b2fa6a95453",
   "metadata": {},
   "outputs": [
    {
     "data": {
      "text/plain": [
       "['apple', 'grapes', 'orange', 'mango']"
      ]
     },
     "execution_count": 70,
     "metadata": {},
     "output_type": "execute_result"
    }
   ],
   "source": [
    "list"
   ]
  },
  {
   "cell_type": "markdown",
   "id": "718c904f-516e-4804-a89b-27aa86542cea",
   "metadata": {},
   "source": [
    "4. Heterogeneous Elements"
   ]
  },
  {
   "cell_type": "markdown",
   "id": "04d5fb4e-19a8-4cda-86c5-2d44208ba658",
   "metadata": {},
   "source": [
    "A list can contain elements of different data types. You can mix integers, floats, strings, and even other lists within a list."
   ]
  },
  {
   "cell_type": "code",
   "execution_count": 74,
   "id": "78609ad3-e598-4cfd-9275-a0f349d4a701",
   "metadata": {},
   "outputs": [],
   "source": [
    "list = [\"apple\", \"grapes\",[\"orange\", \"mango\"]]"
   ]
  },
  {
   "cell_type": "code",
   "execution_count": 76,
   "id": "9c80b27f-7dbb-4113-9f0f-88078ea9f73f",
   "metadata": {},
   "outputs": [
    {
     "data": {
      "text/plain": [
       "['apple', 'grapes', ['orange', 'mango']]"
      ]
     },
     "execution_count": 76,
     "metadata": {},
     "output_type": "execute_result"
    }
   ],
   "source": [
    "list"
   ]
  },
  {
   "cell_type": "markdown",
   "id": "9064509a-93db-4001-a8de-66a04e8ff06a",
   "metadata": {},
   "source": [
    "5. Indexed Access"
   ]
  },
  {
   "cell_type": "markdown",
   "id": "4c88da29-c7e3-4907-bc99-4ef75e02fb10",
   "metadata": {},
   "source": [
    "You can access individual elements of a list using their index, starting from 0 for the first element. Negative indexing is also supported, where -1 refers to the last element."
   ]
  },
  {
   "cell_type": "code",
   "execution_count": 80,
   "id": "23844685-1db8-46f6-bfdb-27dc471b8e4d",
   "metadata": {},
   "outputs": [],
   "source": [
    "list = [\"apple\", \"grapes\",\"orange\"]"
   ]
  },
  {
   "cell_type": "code",
   "execution_count": 84,
   "id": "2f771295-c078-4a27-b897-ad37b7541ac5",
   "metadata": {},
   "outputs": [
    {
     "data": {
      "text/plain": [
       "'grapes'"
      ]
     },
     "execution_count": 84,
     "metadata": {},
     "output_type": "execute_result"
    }
   ],
   "source": [
    "list[1]"
   ]
  },
  {
   "cell_type": "code",
   "execution_count": 86,
   "id": "72e024d3-dc52-42e3-92c6-550911015975",
   "metadata": {},
   "outputs": [
    {
     "data": {
      "text/plain": [
       "'orange'"
      ]
     },
     "execution_count": 86,
     "metadata": {},
     "output_type": "execute_result"
    }
   ],
   "source": [
    "list[-1]"
   ]
  },
  {
   "cell_type": "markdown",
   "id": "7a5d8393-a1a2-4626-a8f5-445c30dc0394",
   "metadata": {},
   "source": [
    "6. Slicing"
   ]
  },
  {
   "cell_type": "markdown",
   "id": "6869f1fc-0b03-4052-9e9a-1835674798b1",
   "metadata": {},
   "source": [
    " support slicing, which aListsllows you to access a subset of the list. The syntax is similar to string slicing."
   ]
  },
  {
   "cell_type": "code",
   "execution_count": 89,
   "id": "570c2f65-345c-4d2d-beb0-2d4f7467b918",
   "metadata": {},
   "outputs": [
    {
     "data": {
      "text/plain": [
       "[20, 30, 40]"
      ]
     },
     "execution_count": 89,
     "metadata": {},
     "output_type": "execute_result"
    }
   ],
   "source": [
    "my_list = [10, 20, 30, 40, 50]\n",
    "my_list[1:4] "
   ]
  },
  {
   "cell_type": "markdown",
   "id": "7e512735-22ad-4df3-8c34-c22d39eb2216",
   "metadata": {},
   "source": [
    " 7. Iteration"
   ]
  },
  {
   "cell_type": "markdown",
   "id": "f3ffefa2-729e-4622-9671-ec5da0cacf84",
   "metadata": {},
   "source": [
    "You can easily iterate over the elements of a list using loops."
   ]
  },
  {
   "cell_type": "code",
   "execution_count": 92,
   "id": "03eb57d0-7d5c-4156-b5d9-11522db5d381",
   "metadata": {},
   "outputs": [
    {
     "name": "stdout",
     "output_type": "stream",
     "text": [
      "apple\n",
      "grapes\n",
      "orange\n"
     ]
    }
   ],
   "source": [
    "list = [\"apple\", \"grapes\",\"orange\"]\n",
    "for item in list:\n",
    "    print(item)"
   ]
  },
  {
   "cell_type": "markdown",
   "id": "33f739cf-1cb4-4f2b-8064-4ff27abadcb5",
   "metadata": {},
   "source": [
    "8. Comprehensions"
   ]
  },
  {
   "cell_type": "markdown",
   "id": "e16c740d-4296-4547-95ca-134235543421",
   "metadata": {},
   "source": [
    "Python provides list comprehensions, which offer a concise way to create lists by iterating over an iterable and optionally applying conditions."
   ]
  },
  {
   "cell_type": "code",
   "execution_count": 96,
   "id": "c5ba9596-015e-4568-b323-609aae370439",
   "metadata": {},
   "outputs": [
    {
     "name": "stdout",
     "output_type": "stream",
     "text": [
      "[0, 1, 4, 9, 16]\n"
     ]
    }
   ],
   "source": [
    "squares = [x**2 for x in range(5)]\n",
    "print(squares)"
   ]
  },
  {
   "cell_type": "markdown",
   "id": "de8de831-7c54-49bb-a789-5ce860659ffb",
   "metadata": {},
   "source": [
    "9. Built-in Functions and Methods"
   ]
  },
  {
   "cell_type": "markdown",
   "id": "b02af0a3-ed01-42e8-b677-e4203cc3a348",
   "metadata": {},
   "source": [
    "Lists come with many built-in functions and methods that make it easy to manipulate them:"
   ]
  },
  {
   "cell_type": "markdown",
   "id": "1a44b7b4-fd98-4612-acc0-7250c6a5c82b",
   "metadata": {},
   "source": [
    "- len(): Returns the number of elements in the list.\n",
    "- append(): Adds an element to the end of the list.\n",
    "- extend(): Adds multiple elements to the end of the list.\n",
    "- insert(): Inserts an element at a specified index.\n",
    "- remove(): Removes the first occurrence of a specified element.\n",
    "- pop(): Removes and returns the element at the specified index (or the last element if no index is specified).\n",
    "- sort(): Sorts the list in place.\n",
    "- reverse(): Reverses the order of the list in place.\n",
    "- index(): Returns the index of the first occurrence of a specified element.\n",
    "- count(): Returns the number of occurrences of a specified element."
   ]
  },
  {
   "cell_type": "markdown",
   "id": "b53919d1-ba85-4e1f-9027-490af5113775",
   "metadata": {},
   "source": [
    " 10. Nesting"
   ]
  },
  {
   "cell_type": "markdown",
   "id": "b260cfd0-f929-49b1-add3-cc8e6163c867",
   "metadata": {},
   "source": [
    "Lists can contain other lists as elements, which allows for the creation of complex, multi-dimensional data structures."
   ]
  },
  {
   "cell_type": "code",
   "execution_count": 105,
   "id": "a913a558-adca-439c-9725-0f6dce92de88",
   "metadata": {},
   "outputs": [
    {
     "data": {
      "text/plain": [
       "6"
      ]
     },
     "execution_count": 105,
     "metadata": {},
     "output_type": "execute_result"
    }
   ],
   "source": [
    "list = [[1, 2, 3], [4, 5, 6], [7, 8, 9]]\n",
    "list[1][2]"
   ]
  },
  {
   "cell_type": "markdown",
   "id": "712640b2-848f-4a31-8554-63e4c1dfe9f6",
   "metadata": {},
   "source": [
    "Summary"
   ]
  },
  {
   "cell_type": "markdown",
   "id": "6c852166-b345-46d7-8400-5988655e8c2c",
   "metadata": {},
   "source": [
    "Lists in Python are powerful and flexible, allowing for easy data storage and manipulation. Their dynamic nature, coupled with a wide range of methods and functionalities, makes them an essential tool for any Python programmer."
   ]
  },
  {
   "cell_type": "markdown",
   "id": "33ea329b-0774-489c-8397-a970abc6bd49",
   "metadata": {},
   "source": [
    " Que3. Describe how to access, modify, and delete elements in a list with examples."
   ]
  },
  {
   "cell_type": "markdown",
   "id": "9bceb782-e429-4fca-a857-926bda6f245d",
   "metadata": {},
   "source": [
    "In Python, lists are ordered, mutable collections of elements, which means you can access, modify, and delete elements in a variety of ways. Here are examples of each operation:"
   ]
  },
  {
   "cell_type": "markdown",
   "id": "c77a017f-07bc-4a69-95e8-6fd2c0812131",
   "metadata": {},
   "source": [
    "1. Accessing Elements in a List"
   ]
  },
  {
   "cell_type": "markdown",
   "id": "3f5b80ed-d134-401b-85b8-e3e806afe858",
   "metadata": {},
   "source": [
    "You can access elements in a list using indexing, slicing, or negative indexing.\n"
   ]
  },
  {
   "cell_type": "markdown",
   "id": "29fdd9c2-dc84-4285-b977-92653aed21ef",
   "metadata": {},
   "source": [
    "Example list"
   ]
  },
  {
   "cell_type": "markdown",
   "id": "aa8a5ee4-bc00-4bea-94c9-462095dfcca3",
   "metadata": {},
   "source": [
    " Accessing by index"
   ]
  },
  {
   "cell_type": "code",
   "execution_count": 125,
   "id": "18e12d67-e781-456c-9df5-2f2a6992abf3",
   "metadata": {},
   "outputs": [],
   "source": [
    "fruits = ['apple', 'banana', 'mango', 'orange']"
   ]
  },
  {
   "cell_type": "code",
   "execution_count": 127,
   "id": "740c0c2b-5be2-4c74-a3d0-5553fbb06121",
   "metadata": {},
   "outputs": [
    {
     "data": {
      "text/plain": [
       "'banana'"
      ]
     },
     "execution_count": 127,
     "metadata": {},
     "output_type": "execute_result"
    }
   ],
   "source": [
    "fruits[1]"
   ]
  },
  {
   "cell_type": "markdown",
   "id": "a37d355e-b77e-40fe-8fbb-43c1e5dc213a",
   "metadata": {},
   "source": [
    "Accessing with negative indexing "
   ]
  },
  {
   "cell_type": "code",
   "execution_count": 130,
   "id": "0a5b26fe-ff3c-4193-bd17-b39d297cb33b",
   "metadata": {},
   "outputs": [
    {
     "data": {
      "text/plain": [
       "'orange'"
      ]
     },
     "execution_count": 130,
     "metadata": {},
     "output_type": "execute_result"
    }
   ],
   "source": [
    "fruits[-1]"
   ]
  },
  {
   "cell_type": "markdown",
   "id": "23c4ae3a-afe3-4f6a-bab0-a89373489643",
   "metadata": {},
   "source": [
    "Accessing a slice"
   ]
  },
  {
   "cell_type": "code",
   "execution_count": 133,
   "id": "548546a9-0941-433c-a80a-c144444f639d",
   "metadata": {},
   "outputs": [
    {
     "data": {
      "text/plain": [
       "['banana', 'mango']"
      ]
     },
     "execution_count": 133,
     "metadata": {},
     "output_type": "execute_result"
    }
   ],
   "source": [
    "fruits[1:3] "
   ]
  },
  {
   "cell_type": "markdown",
   "id": "8c6e049e-58fb-46e9-9d2f-c7c400c28459",
   "metadata": {},
   "source": [
    "2. Modifying Elements in a List"
   ]
  },
  {
   "cell_type": "markdown",
   "id": "191d8d6e-1ae8-4c1a-9e0d-752ba10f9df9",
   "metadata": {},
   "source": [
    "You can modify elements by assigning a new value to a specific index or by using slices to modify multiple values at once."
   ]
  },
  {
   "cell_type": "markdown",
   "id": "1120b15d-8d72-4e30-9f7a-7b1ebda16c72",
   "metadata": {},
   "source": [
    "Example list"
   ]
  },
  {
   "cell_type": "markdown",
   "id": "ef40f7fd-e29a-4e5e-96b6-9d89f1f12a81",
   "metadata": {},
   "source": [
    "Modifying a single element"
   ]
  },
  {
   "cell_type": "code",
   "execution_count": 139,
   "id": "b3f35a7e-589a-4c0c-afa6-60e5ef63f8e9",
   "metadata": {},
   "outputs": [],
   "source": [
    "fruits = [\"apple\", \"banana\", \"mango\", \"orange\"]"
   ]
  },
  {
   "cell_type": "code",
   "execution_count": 141,
   "id": "d97012de-3a36-4dd3-a36c-8118119172b6",
   "metadata": {},
   "outputs": [],
   "source": [
    "fruits[1] = \"grapes\" "
   ]
  },
  {
   "cell_type": "code",
   "execution_count": 143,
   "id": "bdbe3060-b67d-4c19-8665-fe73594e83cc",
   "metadata": {},
   "outputs": [
    {
     "name": "stdout",
     "output_type": "stream",
     "text": [
      "['apple', 'grapes', 'mango', 'orange']\n"
     ]
    }
   ],
   "source": [
    "print(fruits)"
   ]
  },
  {
   "cell_type": "markdown",
   "id": "6599a379-63bc-4c8a-86f0-5ce35eb373cf",
   "metadata": {},
   "source": [
    "Modifying a slice of elements"
   ]
  },
  {
   "cell_type": "code",
   "execution_count": 146,
   "id": "90872612-7fb7-41b2-8786-6159120e88f3",
   "metadata": {},
   "outputs": [],
   "source": [
    "fruits = [\"apple\", \"banana\", \"mango\", \"orange\"]"
   ]
  },
  {
   "cell_type": "code",
   "execution_count": 148,
   "id": "a4af97a9-3633-47c5-a76e-436f6c4b4b3a",
   "metadata": {},
   "outputs": [],
   "source": [
    "fruits[1:3] = [\"grapes\",\"lichi\"]"
   ]
  },
  {
   "cell_type": "code",
   "execution_count": 150,
   "id": "4203586f-653b-46dd-873e-abd104642296",
   "metadata": {},
   "outputs": [
    {
     "name": "stdout",
     "output_type": "stream",
     "text": [
      "['apple', 'grapes', 'lichi', 'orange']\n"
     ]
    }
   ],
   "source": [
    "print(fruits)"
   ]
  },
  {
   "cell_type": "markdown",
   "id": "b54b75cb-3997-4755-87dd-6a06c100b87e",
   "metadata": {},
   "source": [
    "3. Deleting Elements in a List"
   ]
  },
  {
   "cell_type": "markdown",
   "id": "2061ab96-047e-4aab-a28d-4dc64ef41493",
   "metadata": {},
   "source": [
    "You can delete elements using the del statement, remove() method, pop(), or by slicing."
   ]
  },
  {
   "cell_type": "markdown",
   "id": "9ac002e9-2c1b-4d4b-9080-6fd80f241bdf",
   "metadata": {},
   "source": [
    "Example list"
   ]
  },
  {
   "cell_type": "markdown",
   "id": "82d4cef9-e099-493e-bc98-583f3aaf7dcb",
   "metadata": {},
   "source": [
    "Deleting by index"
   ]
  },
  {
   "cell_type": "code",
   "execution_count": 156,
   "id": "e5644b8c-ba57-4fca-81aa-74555db0e580",
   "metadata": {},
   "outputs": [],
   "source": [
    "fruits = [\"apple\", \"banana\", \"mango\", \"orange\"]"
   ]
  },
  {
   "cell_type": "code",
   "execution_count": 161,
   "id": "313304ac-5d86-46fa-8b7c-b70eed59d9cf",
   "metadata": {},
   "outputs": [],
   "source": [
    "del fruits[1]"
   ]
  },
  {
   "cell_type": "code",
   "execution_count": 163,
   "id": "486767aa-4793-4b0c-baf7-4b02b55a0a27",
   "metadata": {},
   "outputs": [
    {
     "name": "stdout",
     "output_type": "stream",
     "text": [
      "['apple', 'orange']\n"
     ]
    }
   ],
   "source": [
    "print(fruits)"
   ]
  },
  {
   "cell_type": "markdown",
   "id": "a5af7297-cab3-4cca-bdca-e0ec69f78f5a",
   "metadata": {},
   "source": [
    "Removing an element by value"
   ]
  },
  {
   "cell_type": "code",
   "execution_count": 168,
   "id": "352bf559-b0b3-432e-a460-9665b298abef",
   "metadata": {},
   "outputs": [],
   "source": [
    "fruits = [\"apple\", \"banana\", \"mango\", \"orange\"]"
   ]
  },
  {
   "cell_type": "code",
   "execution_count": null,
   "id": "c2f6a6f1-92fb-4fe6-ab64-1eea42c81765",
   "metadata": {},
   "outputs": [],
   "source": [
    "fruits.remove(\"mango\") "
   ]
  },
  {
   "cell_type": "code",
   "execution_count": 170,
   "id": "cb9682dc-9067-4eee-80ef-c96931483d55",
   "metadata": {},
   "outputs": [
    {
     "name": "stdout",
     "output_type": "stream",
     "text": [
      "['apple', 'banana', 'mango', 'orange']\n"
     ]
    }
   ],
   "source": [
    "print(fruits)"
   ]
  },
  {
   "cell_type": "markdown",
   "id": "30d74d24-eff1-4e1c-9218-6ba828404af6",
   "metadata": {},
   "source": [
    "Deleting with pop"
   ]
  },
  {
   "cell_type": "code",
   "execution_count": 173,
   "id": "b91329ca-a6aa-47eb-8084-8a21fb8db9d5",
   "metadata": {},
   "outputs": [],
   "source": [
    "fruits = [\"apple\", \"banana\", \"mango\", \"orange\"]"
   ]
  },
  {
   "cell_type": "code",
   "execution_count": 175,
   "id": "7fe89a4d-39f8-4fe5-8fe5-173a5836c6ee",
   "metadata": {},
   "outputs": [],
   "source": [
    "del fruits[1:3] "
   ]
  },
  {
   "cell_type": "code",
   "execution_count": 177,
   "id": "45a43a7e-83ff-4b69-b4f1-b010d713256b",
   "metadata": {},
   "outputs": [
    {
     "name": "stdout",
     "output_type": "stream",
     "text": [
      "['apple', 'orange']\n"
     ]
    }
   ],
   "source": [
    "print(fruits)"
   ]
  },
  {
   "cell_type": "markdown",
   "id": "8ae5194e-41c3-4f4b-a17e-54232b928c9d",
   "metadata": {},
   "source": [
    "Summary:"
   ]
  },
  {
   "cell_type": "markdown",
   "id": "f24f4ad4-c317-44ec-959b-9e2961bc8f35",
   "metadata": {},
   "source": [
    "- Accessing: Use indexing (list[index]) or slicing (list[start:end]).\n",
    "- Modifying: Assign a new value using an index (list[index] = value) or modify slices.\n",
    "- Deleting: Use del, remove(), pop(), or slice deletion to remove elements."
   ]
  },
  {
   "cell_type": "markdown",
   "id": "0edf1c66-82f4-41f4-8750-6786f7915888",
   "metadata": {},
   "source": [
    "Que4. Compare and contrast tuples and lists with examples."
   ]
  },
  {
   "cell_type": "markdown",
   "id": "6a0f98c3-1774-469d-a1fe-99b69f1058bd",
   "metadata": {},
   "source": [
    "Both tuples and lists are used to store collections of items in Python, but they have distinct differences in their behavior and use cases. Below is a comparison and contrast of tuples and lists, with examples for clarity."
   ]
  },
  {
   "cell_type": "markdown",
   "id": "2290c4e1-3547-4343-b115-066f757eb3f7",
   "metadata": {},
   "source": [
    "1. Mutability:"
   ]
  },
  {
   "cell_type": "markdown",
   "id": "252a8a15-51fe-48ff-a828-eeb2ba519a15",
   "metadata": {},
   "source": [
    "- Lists: Mutable, meaning you can modify, add, or remove elements after creation.\n",
    "- Tuples: Immutable, meaning once they are created, their elements cannot be modified."
   ]
  },
  {
   "cell_type": "markdown",
   "id": "ec246e80-0fea-4714-979a-45697986138c",
   "metadata": {},
   "source": [
    " Tuple example (Immutable)"
   ]
  },
  {
   "cell_type": "code",
   "execution_count": 212,
   "id": "5484444e-5cd5-4e99-a815-f49b5fba8ac6",
   "metadata": {},
   "outputs": [],
   "source": [
    "fruits_tuple = (\"apple\", \"banana\", \"mango\", \"orange\")"
   ]
  },
  {
   "cell_type": "code",
   "execution_count": 214,
   "id": "173132de-8f53-4e60-a472-8e73031fe64d",
   "metadata": {},
   "outputs": [],
   "source": [
    "#fruits_tuple[1] = \"grapes\" # This will raise an error: TypeError: 'tuple' object does not support item assignment"
   ]
  },
  {
   "cell_type": "markdown",
   "id": "ee770c7e-c91e-4ed7-aa5c-5a82992a2b39",
   "metadata": {},
   "source": [
    "2. Syntax:"
   ]
  },
  {
   "cell_type": "markdown",
   "id": "d633747d-b8ae-4948-b8ba-4fed175b1b59",
   "metadata": {},
   "source": [
    "- Lists: Created using square brackets [ ].\n",
    "- Tuples: Created using parentheses ( )."
   ]
  },
  {
   "cell_type": "markdown",
   "id": "947731fa-d1d5-426c-ad9b-3cc2c1f5563c",
   "metadata": {},
   "source": [
    "Example:"
   ]
  },
  {
   "cell_type": "code",
   "execution_count": 219,
   "id": "e87900ab-5a62-40ce-9bd4-a6251cd69681",
   "metadata": {},
   "outputs": [],
   "source": [
    "# List\n",
    "my_list = [1, 2, 3]"
   ]
  },
  {
   "cell_type": "code",
   "execution_count": 221,
   "id": "55505130-c8fd-4fb4-9043-1f498ec6d4dd",
   "metadata": {},
   "outputs": [],
   "source": [
    "# Tuple\n",
    "my_tuple = (1, 2, 3)"
   ]
  },
  {
   "cell_type": "markdown",
   "id": "f57475b4-a87b-4eff-aaed-01f717876cd6",
   "metadata": {},
   "source": [
    "3. Performance:"
   ]
  },
  {
   "cell_type": "markdown",
   "id": "ba132130-6cb7-40df-9be0-cd0ae06515b9",
   "metadata": {},
   "source": [
    "- Lists: Slower than tuples when performing operations because they are mutable.\n",
    "- Tuples: Faster than lists, especially when dealing with large amounts of data, due to their immutability."
   ]
  },
  {
   "cell_type": "markdown",
   "id": "a3ea5b05-6cb6-471d-8373-ce2458739311",
   "metadata": {},
   "source": [
    "4. Use Cases:"
   ]
  },
  {
   "cell_type": "markdown",
   "id": "fcda0187-bf4f-4105-916a-d3990612a737",
   "metadata": {},
   "source": [
    "- Lists: Used when you need a dynamic collection of items that can change over time (e.g., adding/removing elements).\n",
    "- Tuples: Used for fixed collections of items that should not change, such as representing data records, or returning multiple values from a function."
   ]
  },
  {
   "cell_type": "markdown",
   "id": "3864045a-6b71-4504-9de3-baf8b165b4e8",
   "metadata": {},
   "source": [
    "Example:"
   ]
  },
  {
   "cell_type": "code",
   "execution_count": 228,
   "id": "b61371f7-dfc2-4e59-85ee-741cddaa493d",
   "metadata": {},
   "outputs": [],
   "source": [
    "# List - for a collection of items that may change\n",
    "shopping_list = [\"milk\", \"eggs\", \"bread\"]"
   ]
  },
  {
   "cell_type": "code",
   "execution_count": 230,
   "id": "eb4f2431-a87b-403f-8b97-f1d6241f9654",
   "metadata": {},
   "outputs": [],
   "source": [
    "shopping_list.append (\"butter\")"
   ]
  },
  {
   "cell_type": "code",
   "execution_count": 232,
   "id": "b747d60f-b602-4dbf-9f01-194d6add4b78",
   "metadata": {},
   "outputs": [
    {
     "name": "stdout",
     "output_type": "stream",
     "text": [
      "['milk', 'eggs', 'bread', 'butter']\n"
     ]
    }
   ],
   "source": [
    "print(shopping_list)"
   ]
  },
  {
   "cell_type": "code",
   "execution_count": null,
   "id": "6f93097c-78da-4dc9-8ddd-993ba128fcc9",
   "metadata": {},
   "outputs": [],
   "source": [
    "# Tuple - for a collection of fixed items, like coordinates or database records\n",
    "coordinates = (52.516667, 13.388889)"
   ]
  },
  {
   "cell_type": "markdown",
   "id": "650cef8e-ab3c-40f6-a961-e649b4aa31de",
   "metadata": {},
   "source": [
    " 5. Methods:"
   ]
  },
  {
   "cell_type": "markdown",
   "id": "3c35d1cb-2ece-4c89-ba77-b56cd393d167",
   "metadata": {},
   "source": [
    "- Lists: Have many built-in methods like append(), remove(), pop(), sort(), etc.\n",
    "- Tuples: Have only two methods: count() and index() because they are immutable."
   ]
  },
  {
   "cell_type": "markdown",
   "id": "db83b9bd-0ae8-444a-b263-e1f127677e81",
   "metadata": {},
   "source": [
    "Example:"
   ]
  },
  {
   "cell_type": "code",
   "execution_count": 237,
   "id": "fc987539-e1da-4f4f-8baf-b2de4fa078e1",
   "metadata": {},
   "outputs": [],
   "source": [
    " # List methods\n",
    "fruits_list = [\"apple\", \"banana\", \"mango\", \"orange\"]"
   ]
  },
  {
   "cell_type": "code",
   "execution_count": 239,
   "id": "50181a7f-7fd3-4f6c-bf86-a03f5e47045d",
   "metadata": {},
   "outputs": [],
   "source": [
    "fruits_list.append(\"cherry\")  \n",
    "fruits_list.remove(\"banana\")"
   ]
  },
  {
   "cell_type": "code",
   "execution_count": 241,
   "id": "55de58dc-070f-4f8e-a04c-98041ba01407",
   "metadata": {},
   "outputs": [
    {
     "name": "stdout",
     "output_type": "stream",
     "text": [
      "['apple', 'mango', 'orange', 'cherry']\n"
     ]
    }
   ],
   "source": [
    "print(fruits_list)"
   ]
  },
  {
   "cell_type": "code",
   "execution_count": 243,
   "id": "80225dd3-288c-4994-9b3b-fb7b4063f63e",
   "metadata": {},
   "outputs": [],
   "source": [
    "# Tuple methods\n",
    "fruits_list = [\"apple\", \"banana\", \"mango\", \"orange\"]"
   ]
  },
  {
   "cell_type": "code",
   "execution_count": 245,
   "id": "fb4ee262-370b-4992-859a-80015426eed0",
   "metadata": {},
   "outputs": [
    {
     "data": {
      "text/plain": [
       "1"
      ]
     },
     "execution_count": 245,
     "metadata": {},
     "output_type": "execute_result"
    }
   ],
   "source": [
    "fruits_list.count(\"banana\")"
   ]
  },
  {
   "cell_type": "code",
   "execution_count": 247,
   "id": "48383ad3-d4f8-4d2f-a4f0-9635cb83deaf",
   "metadata": {},
   "outputs": [
    {
     "data": {
      "text/plain": [
       "3"
      ]
     },
     "execution_count": 247,
     "metadata": {},
     "output_type": "execute_result"
    }
   ],
   "source": [
    "fruits_list.index(\"orange\")"
   ]
  },
  {
   "cell_type": "markdown",
   "id": "821be56d-1577-471a-baa3-4d3b6d6647f9",
   "metadata": {},
   "source": [
    "- Lists: Take up more memory since they are dynamic and can be modified.\n",
    "- Tuples: Take up less memory as they are immutable and fixed in size."
   ]
  },
  {
   "cell_type": "markdown",
   "id": "dbc63a35-c72d-4cff-bf21-62f4cdd0809d",
   "metadata": {},
   "source": [
    "Example:"
   ]
  },
  {
   "cell_type": "code",
   "execution_count": 252,
   "id": "0fc397b7-399f-416c-8aac-f7fe9c071a43",
   "metadata": {},
   "outputs": [],
   "source": [
    "my_list = [1, 2, 3]\n",
    "my_tuple = (1, 2, 3)"
   ]
  },
  {
   "cell_type": "markdown",
   "id": "784ff4a6-8a0d-4977-b06a-3b040083fa9e",
   "metadata": {},
   "source": [
    "7. Hashability:"
   ]
  },
  {
   "cell_type": "markdown",
   "id": "74c48ee2-1bb6-4b56-8f4c-5f4b2e089a03",
   "metadata": {},
   "source": [
    "- Lists: Not hashable, so they cannot be used as keys in a dictionary.\n",
    "- Tuples: Hashable (if all elements inside are hashable), so they can be used as dictionary keys."
   ]
  },
  {
   "cell_type": "markdown",
   "id": "181de591-9379-4d69-b4f2-dac985504f90",
   "metadata": {},
   "source": [
    "Example:"
   ]
  },
  {
   "cell_type": "code",
   "execution_count": 261,
   "id": "1da682de-9a1d-488e-a189-119c44e61bbc",
   "metadata": {},
   "outputs": [],
   "source": [
    "# List cannot be used as a dictionary key\n",
    "# my_dict = {[1, 2, 3]: 'value'}  # TypeError: unhashable type: 'list'"
   ]
  },
  {
   "cell_type": "code",
   "execution_count": 263,
   "id": "651b4943-b4ce-4d43-8627-3042598542dc",
   "metadata": {},
   "outputs": [],
   "source": [
    " # Tuple can be used as a dictionary key\n",
    "my_dict = {(1, 2, 3): \"value\"}"
   ]
  },
  {
   "cell_type": "code",
   "execution_count": 265,
   "id": "2fdc8dce-4885-4270-a193-03559c8aca1d",
   "metadata": {},
   "outputs": [
    {
     "data": {
      "text/plain": [
       "{(1, 2, 3): 'value'}"
      ]
     },
     "execution_count": 265,
     "metadata": {},
     "output_type": "execute_result"
    }
   ],
   "source": [
    "my_dict"
   ]
  },
  {
   "cell_type": "markdown",
   "id": "948b007f-01b3-4ab3-bd8a-acb8d96c938e",
   "metadata": {},
   "source": [
    "Que 5:  Describe the key features of sets and provide examples of their use."
   ]
  },
  {
   "cell_type": "markdown",
   "id": "b759ba5f-8170-4bf7-b63a-aa513b5cccfc",
   "metadata": {},
   "source": [
    "Ans: In Python, a set is an unordered collection of unique elements. Here are the key features of sets:\n",
    "\n"
   ]
  },
  {
   "cell_type": "markdown",
   "id": "193b062f-c9a6-41f8-9fe9-a5399443e143",
   "metadata": {},
   "source": [
    "1. Unordered Collection\n",
    "Sets do not maintain the order of elements. This means that the elements might not be retrieved in the order they were added.\n"
   ]
  },
  {
   "cell_type": "code",
   "execution_count": 26,
   "id": "80021cac-8814-41d0-a8c1-f8a3b38cfed1",
   "metadata": {},
   "outputs": [
    {
     "name": "stdout",
     "output_type": "stream",
     "text": [
      "{1, 2, 3, 4}\n"
     ]
    }
   ],
   "source": [
    "#example:\n",
    "my_set = {3, 1, 4, 2}\n",
    "print(my_set)  # Output might be: {1, 2, 3, 4} or any other order"
   ]
  },
  {
   "cell_type": "markdown",
   "id": "2626e13a-c255-46ad-b6d4-1882741ecb84",
   "metadata": {},
   "source": [
    "2. Unique Elements\n",
    "Sets automatically ensure that all elements are unique. If you add duplicate elements, they will be stored only once."
   ]
  },
  {
   "cell_type": "code",
   "execution_count": 28,
   "id": "5f2a1b3d-d864-476d-aab5-d866402579eb",
   "metadata": {},
   "outputs": [
    {
     "name": "stdout",
     "output_type": "stream",
     "text": [
      "{1, 2, 3, 4}\n"
     ]
    }
   ],
   "source": [
    "#example:\n",
    "my_set = {1, 2, 2, 3, 4}\n",
    "print(my_set)  # Output: {1, 2, 3, 4}"
   ]
  },
  {
   "cell_type": "markdown",
   "id": "b916cb77-97b0-4b6d-95e9-3a78f9b5cdae",
   "metadata": {},
   "source": [
    "3. Mutable\n",
    "Sets are mutable, meaning you can add or remove elements after the set is created."
   ]
  },
  {
   "cell_type": "code",
   "execution_count": 30,
   "id": "ca4489a5-ed85-4855-a2c4-1699b2d68c6c",
   "metadata": {},
   "outputs": [
    {
     "name": "stdout",
     "output_type": "stream",
     "text": [
      "{1, 3, 4}\n"
     ]
    }
   ],
   "source": [
    "#example:\n",
    "my_set = {1, 2, 3}\n",
    "my_set.add(4)  # Adds 4 to the set\n",
    "my_set.remove(2)  # Removes 2 from the set\n",
    "print(my_set)  # Output: {1, 3, 4}"
   ]
  },
  {
   "cell_type": "markdown",
   "id": "6a626afd-4440-47a8-b8cb-9f9c1b099fc4",
   "metadata": {},
   "source": [
    "4. No Indexing\n",
    "Since sets are unordered, they do not support indexing or slicing."
   ]
  },
  {
   "cell_type": "code",
   "execution_count": 34,
   "id": "5d565f99-4718-4564-969a-63b3cd453790",
   "metadata": {},
   "outputs": [],
   "source": [
    "#example:\n",
    "my_set = {1, 2, 3}\n",
    "# Trying to access by index will raise an error\n",
    "# print(my_set[0])  # This will raise a TypeError\n"
   ]
  },
  {
   "cell_type": "markdown",
   "id": "34847a11-9b24-4f76-b109-c11df69e006a",
   "metadata": {},
   "source": [
    "5. Dynamic Size\n",
    "Sets can dynamically change size as you add or remove elements.\n",
    "\n",
    "Example:"
   ]
  },
  {
   "cell_type": "code",
   "execution_count": 37,
   "id": "a740d49f-174c-44aa-b4fe-0b7ac2d01250",
   "metadata": {},
   "outputs": [
    {
     "name": "stdout",
     "output_type": "stream",
     "text": [
      "{2, 3}\n"
     ]
    }
   ],
   "source": [
    "my_set = {1, 2}\n",
    "my_set.add(3)\n",
    "my_set.discard(1)\n",
    "print(my_set)  # Output: {2, 3}\n"
   ]
  },
  {
   "cell_type": "markdown",
   "id": "81f51d14-f96d-4189-959d-a83420a64be1",
   "metadata": {},
   "source": [
    "6. Set Operations\n",
    "Sets support various mathematical operations, such as union, intersection, difference, and symmetric difference."
   ]
  },
  {
   "cell_type": "markdown",
   "id": "81bb266a-b2d2-44a4-bbea-c35699a9d830",
   "metadata": {},
   "source": [
    "Example:1. Union (|): Combines elements from both sets.\n",
    "2. Intersection (&): Keeps only elements found in both sets.\n",
    "3. Difference (-): Removes elements found in another set.\n",
    "4. Symmetric Difference (^): Keeps elements that are in either of the sets but not in both."
   ]
  },
  {
   "cell_type": "markdown",
   "id": "1dfc1925-8ab7-4837-8f06-1f832e041435",
   "metadata": {},
   "source": [
    "7 Set Methods: Some useful methods include:\n",
    "\n",
    "Example: 1. add(): Adds an element to the set.\n",
    "2. remove(): Removes a specific element from the set. Raises an error if the element is not found.\n",
    "3. discard(): Removes an element if it is present, but does not raise an error if it is absent.\n",
    "4. pop(): Removes and returns an arbitrary element from the set.\n",
    "5. clear(): Removes all elements from the set.\n",
    "6. copy(): Returns a shallow copy of the set."
   ]
  },
  {
   "cell_type": "markdown",
   "id": "1ed88fb8-fd3c-4394-a28f-5cb1b0540827",
   "metadata": {},
   "source": [
    "8 Frozen Sets: Python also provides frozenset, an immutable version of a set. Once created, elements cannot be added or removed."
   ]
  },
  {
   "cell_type": "markdown",
   "id": "29ddb945-bbbd-4395-891b-7fe1f5611c76",
   "metadata": {},
   "source": [
    "Example:"
   ]
  },
  {
   "cell_type": "code",
   "execution_count": 44,
   "id": "51d459a4-b7cd-42b0-b03f-90dd8fecd6c2",
   "metadata": {},
   "outputs": [
    {
     "name": "stdout",
     "output_type": "stream",
     "text": [
      "{1, 2, 4, 5, 6, 7}\n"
     ]
    }
   ],
   "source": [
    "#Creating a set\n",
    "my_set = {1, 2, 3, 4, 5}\n",
    "\n",
    "# Adding an element\n",
    "my_set.add(6)\n",
    "\n",
    "# Removing an element\n",
    "my_set.remove(3)\n",
    "\n",
    "# Performing unionf\n",
    "another_set = {4, 5, 6, 7}\n",
    "union_set = my_set | another_set  # {1, 2, 4, 5, 6, 7}\n",
    "\n",
    "print(union_set)"
   ]
  },
  {
   "cell_type": "markdown",
   "id": "6b4c3adf-2f90-4a84-98f4-37a3c2b252e6",
   "metadata": {},
   "source": [
    "Que 6.  Discuss the use cases o tuples and sets in Python programming."
   ]
  },
  {
   "cell_type": "markdown",
   "id": "5c31f041-b89d-4fc0-a2a7-d868d1cfe93b",
   "metadata": {},
   "source": [
    "Ans: Tuples and sets are both important data structures in Python, each with distinct characteristics and use cases:"
   ]
  },
  {
   "cell_type": "markdown",
   "id": "a36168db-c381-499b-8c84-163735166a14",
   "metadata": {},
   "source": [
    "Tuples-\n",
    "Characteristics:\n",
    "\n",
    "1.Immutable: Once a tuple is created, its elements cannot be modified, added, or removed. This makes tuples useful when you need a collection of items that should not change.\n",
    "\n",
    "2.Ordered: Tuples maintain the order of elements, so the order in which items are added is the order in which they are stored.\n",
    "\n",
    "3.Indexable: You can access elements of a tuple using indexing, similar to lists.\n",
    "\n",
    "4.Hashble: Because tuples are immutable, they can be used as keys in dictionaries.\n",
    "\n",
    "Use Cases:\n",
    "\n",
    "1.Fixed Collections: Tuples are ideal for storing a fixed collection of items that shouldn't change, such as coordinates (x, y), RGB color values, or configurations.\n",
    "\n",
    "2.Function Returns: When a function needs to return multiple values, tuples provide a simple way to return them as a single object.\n",
    "\n",
    "3.Dictionary Keys: Since tuples are immutable, they can be used as keys in dictionaries, especially when you need a composite key.\n",
    "\n",
    "4.Data Integrity: When you want to ensure that the data stored in a collection remains constant, tuples are the go-to choice."
   ]
  },
  {
   "cell_type": "code",
   "execution_count": 55,
   "id": "5a6e282f-b187-4798-97e0-fadb23cce85e",
   "metadata": {},
   "outputs": [],
   "source": [
    "#Example:\n",
    "coordinates = (10, 20)\n",
    "rgb_color = (255, 0, 0)\n",
    "point = (2, 3)\n",
    "dictionary = {point: \"This is a point\"}\n"
   ]
  },
  {
   "cell_type": "markdown",
   "id": "ad780107-23cb-481d-bad1-ddf1d5400324",
   "metadata": {},
   "source": [
    "Sets\n",
    "Characteristics:\n",
    "\n",
    "1.Mutable (but elements must be immutable): You can add or remove elements from a set, but all elements must be immutable (e.g., numbers, strings, tuples).\n",
    "\n",
    "2.Unordered: Sets do not maintain any specific order of elements.\n",
    "\n",
    "3.No Duplicates: Sets automatically discard duplicate entries, making them useful for operations where uniqueness is required.\n",
    "\n",
    "4.Efficient Membership Testing: Sets are optimized for checking if an item is part of the set.\n",
    "\n",
    "Use Cases:\n",
    "\n",
    "1.Removing Duplicates: Sets are perfect for eliminating duplicate values from a collection, such as a list of items where you only need unique elements.\n",
    "\n",
    "2.Membership Testing: Sets allow for fast membership tests, which is useful when you need to check whether an element exists in a collection.\n",
    "\n",
    "3.Set Operations: You can perform mathematical set operations like union, intersection, difference, and symmetric difference, which are helpful in various computational tasks.\n",
    "\n",
    "4.Unordered Collections: When the order of elements doesn’t matter and you only care about uniqueness, sets are an ideal choice.\n",
    "Example:\n",
    "\n"
   ]
  },
  {
   "cell_type": "code",
   "execution_count": 59,
   "id": "7cb98ed6-45dc-43dd-b555-97210aca3d72",
   "metadata": {},
   "outputs": [
    {
     "name": "stdout",
     "output_type": "stream",
     "text": [
      "Banana is in the set\n",
      "{3}\n",
      "{1, 2, 3, 4, 5}\n",
      "{1, 2}\n"
     ]
    }
   ],
   "source": [
    "fruits = {\"apple\", \"banana\", \"cherry\", \"apple\"}  # \"apple\" is stored only once\n",
    "unique_numbers = set([1, 2, 3, 1, 4, 4])  # duplicates removed\n",
    "if \"banana\" in fruits:\n",
    "    print(\"Banana is in the set\")\n",
    "\n",
    "# Set operations\n",
    "a = {1, 2, 3}\n",
    "b = {3, 4, 5}\n",
    "print(a & b)  # Intersection\n",
    "print(a | b)  # Union\n",
    "print(a - b)  # Difference"
   ]
  },
  {
   "cell_type": "markdown",
   "id": "893651d5-b617-4bdb-8bdf-b343c9f334a2",
   "metadata": {},
   "source": [
    "Summary:\n",
    "\n",
    "Tuples are best used when you need an ordered and immutable collection.\n",
    "\n",
    "Sets are useful for storing unique, unordered elements and performing set operations efficiently."
   ]
  },
  {
   "cell_type": "markdown",
   "id": "49a79329-6f2c-4085-a761-681ee6444398",
   "metadata": {},
   "source": [
    "Que 7: Describe how to add, modify and delete items in a dictionary with examples."
   ]
  },
  {
   "cell_type": "markdown",
   "id": "18ea6788-b03b-4983-b194-fc0cd5f3f4d7",
   "metadata": {},
   "source": [
    "Ans. In Python, dictionaries are mutable data structures that allow you to store key-value pairs. You can easily add, modify, and delete items in a dictionary. Here's how you can do it with examples:"
   ]
  },
  {
   "cell_type": "markdown",
   "id": "feca4a5d-df93-4ab3-b761-aa4ffd89cd9a",
   "metadata": {},
   "source": [
    "Adding Items to a Dictionary\n",
    "To add an item to a dictionary, you simply assign a value to a new key."
   ]
  },
  {
   "cell_type": "code",
   "execution_count": 67,
   "id": "dfdf09ff-5796-4010-9c0b-deeca11ffa76",
   "metadata": {},
   "outputs": [
    {
     "name": "stdout",
     "output_type": "stream",
     "text": [
      "{'name': 'Alice', 'age': 30, 'city': 'New York'}\n"
     ]
    }
   ],
   "source": [
    "# Create an empty dictionary\n",
    "my_dict = {}\n",
    "\n",
    "# Add a key-value pair\n",
    "my_dict['name'] = 'Alice'\n",
    "my_dict['age'] = 30\n",
    "\n",
    "# Add another key-value pair\n",
    "my_dict['city'] = 'New York'\n",
    "\n",
    "print(my_dict)"
   ]
  },
  {
   "cell_type": "markdown",
   "id": "fabc130e-fd7f-4fe0-bc55-76e262d39db0",
   "metadata": {},
   "source": [
    "Modifying Items in a Dictionary\n",
    "To modify an existing item, you can assign a new value to an existing key."
   ]
  },
  {
   "cell_type": "code",
   "execution_count": 70,
   "id": "d73457f0-4089-4aca-b9df-09443d2aef3d",
   "metadata": {},
   "outputs": [
    {
     "name": "stdout",
     "output_type": "stream",
     "text": [
      "{'name': 'Alice', 'age': 31, 'city': 'Los Angeles'}\n"
     ]
    }
   ],
   "source": [
    "# Modify the value associated with the key 'age'\n",
    "my_dict['age'] = 31\n",
    "\n",
    "# Modify the value associated with the key 'city'\n",
    "my_dict['city'] = 'Los Angeles'\n",
    "\n",
    "print(my_dict)\n"
   ]
  },
  {
   "cell_type": "markdown",
   "id": "1ba6ab7c-89bd-4c0c-af4b-554993415ccd",
   "metadata": {},
   "source": [
    "Deleting Items from a Dictionary\n",
    "You can delete items from a dictionary using the del statement, pop() method, or popitem() method.\n",
    "\n",
    "1.Using del to remove a specific key-value pair:"
   ]
  },
  {
   "cell_type": "code",
   "execution_count": 73,
   "id": "9ca60909-de21-460f-93b8-7de34331a9e1",
   "metadata": {},
   "outputs": [
    {
     "name": "stdout",
     "output_type": "stream",
     "text": [
      "{'name': 'Alice', 'age': 31}\n"
     ]
    }
   ],
   "source": [
    "# Delete the key-value pair with the key 'city'\n",
    "del my_dict['city']\n",
    "\n",
    "print(my_dict)\n"
   ]
  },
  {
   "cell_type": "markdown",
   "id": "6f808a57-ecac-4531-a4c4-6234f7e9549c",
   "metadata": {},
   "source": [
    "2.Using pop() to remove a key-value pair and return the value:"
   ]
  },
  {
   "cell_type": "code",
   "execution_count": 77,
   "id": "1f5cbd02-2cc6-4ce9-a260-8c84da681161",
   "metadata": {},
   "outputs": [
    {
     "name": "stdout",
     "output_type": "stream",
     "text": [
      "{'name': 'Alice'}\n",
      "31\n"
     ]
    }
   ],
   "source": [
    "# Remove the key-value pair with the key 'age' and return its value\n",
    "age = my_dict.pop('age')\n",
    "\n",
    "print(my_dict)  # 'age' is now removed\n",
    "print(age)      # The removed value (31) is returned\n"
   ]
  },
  {
   "cell_type": "markdown",
   "id": "0cccb06c-366b-4ef0-8e57-780ed4911c5b",
   "metadata": {},
   "source": [
    "3.Using popitem() to remove the last inserted key-value pair (in Python 3.7+):"
   ]
  },
  {
   "cell_type": "code",
   "execution_count": 80,
   "id": "b150a0fb-f062-4912-9dc5-1e436d070435",
   "metadata": {},
   "outputs": [
    {
     "name": "stdout",
     "output_type": "stream",
     "text": [
      "{'name': 'Alice', 'country': 'USA'}\n",
      "('job', 'Engineer')\n"
     ]
    }
   ],
   "source": [
    "# Add some more key-value pairs\n",
    "my_dict['country'] = 'USA'\n",
    "my_dict['job'] = 'Engineer'\n",
    "\n",
    "# Remove and return the last inserted key-value pair\n",
    "last_item = my_dict.popitem()\n",
    "\n",
    "print(my_dict)  # The last inserted key-value pair is removed\n",
    "print(last_item) # The removed pair is returned as a tuple\n"
   ]
  },
  {
   "cell_type": "markdown",
   "id": "be4e9876-6a9f-4a31-91ac-fce9674dc49d",
   "metadata": {},
   "source": [
    "Summary\n",
    "\n",
    "Adding: Use my_dict[key] = value to add a new key-value pair.\n",
    "\n",
    "Modifying: Use my_dict[key] = new_value to update the value associated with an existing key.\n",
    "\n",
    "Deleting: Use del my_dict[key], my_dict.pop(key), or my_dict.popitem() to remove items from the dictionary."
   ]
  },
  {
   "cell_type": "markdown",
   "id": "a65d1849-55bb-4aad-9035-309e68ca6282",
   "metadata": {},
   "source": [
    "Que 8.  Discuss the importance of dictionary keys being immutable and provde examples."
   ]
  },
  {
   "cell_type": "markdown",
   "id": "3100f7c3-d9e6-410d-acba-a04e02a32e9b",
   "metadata": {},
   "source": [
    "Ans.In Python, dictionary keys must be immutable. This immutability requirement is crucial for the efficient and correct functioning of dictionaries, particularly because dictionaries are implemented using hash tables. Here’s why immutable keys are important, along with examples:\n",
    "\n",
    "Why Dictionary Keys Must Be Immutable\n",
    "\n",
    "1.Hashability:Python dictionaries use a hash table to store key-value pairs. When a key is added to a dictionary, Python computes the hash of the key to determine where to store the associated value.\n",
    "Mutable objects, such as lists or dictionaries themselves, can change after their creation, leading to inconsistencies in their hash values. If the hash value changes after the key has been placed in the dictionary, it would become impossible to reliably locate the associated value.\n",
    "\n",
    "2.Consistency and Reliability:If dictionary keys were mutable, they could be changed after being added to the dictionary. This could lead to unpredictable behavior, where the key-value pair might become unreachable or even lost within the dictionary, leading to potential bugs and data integrity issues.\n",
    "\n",
    "3.Performance:Immutability ensures that the hashing process is consistent and quick. Since the hash value of an immutable object remains constant, lookups, insertions, and deletions in a dictionary are performed efficiently.\n",
    "\n",
    "Examples of Immutable and Mutable Types\n",
    "Immutable types (can be dictionary keys):\n",
    "\n",
    "int, float, str, tuple, frozenset\n",
    "Mutable types (cannot be dictionary keys):\n",
    "\n",
    "list, dict, set\n",
    "Example 1: Using Immutable Keys"
   ]
  },
  {
   "cell_type": "code",
   "execution_count": 91,
   "id": "c25348aa-df87-4b8f-adbd-7ce2c87a386f",
   "metadata": {},
   "outputs": [
    {
     "name": "stdout",
     "output_type": "stream",
     "text": [
      "{'name': 'Alice', 'age': 30, (40.7128, -74.006): 'New York City'}\n"
     ]
    }
   ],
   "source": [
    "# Using an immutable type (string) as a dictionary key\n",
    "my_dict = {\n",
    "    'name': 'Alice',\n",
    "    'age': 30\n",
    "}\n",
    "\n",
    "# Using an immutable tuple as a key\n",
    "location = (40.7128, -74.0060)  # Tuple representing coordinates (latitude, longitude)\n",
    "my_dict[location] = 'New York City'\n",
    "\n",
    "print(my_dict)\n"
   ]
  },
  {
   "cell_type": "markdown",
   "id": "17acf7ed-4da3-4afe-a6ef-cb07fb4ee296",
   "metadata": {},
   "source": [
    "Here, the string 'name' and the tuple (40.7128, -74.0060) are both immutable and therefore valid dictionary keys."
   ]
  },
  {
   "cell_type": "markdown",
   "id": "1d4d1d98-9dc8-4aa6-b27d-6a3bea518e44",
   "metadata": {},
   "source": [
    "Example 2: Attempting to Use a Mutable Key"
   ]
  },
  {
   "cell_type": "code",
   "execution_count": 95,
   "id": "07afc9d3-81e8-46de-9b45-04f83c5578d7",
   "metadata": {},
   "outputs": [
    {
     "name": "stdout",
     "output_type": "stream",
     "text": [
      "Error: unhashable type: 'list'\n"
     ]
    }
   ],
   "source": [
    "# Trying to use a list as a dictionary key (This will raise an error)\n",
    "my_dict = {}\n",
    "key = [1, 2, 3]\n",
    "\n",
    "# This will raise a TypeError\n",
    "try:\n",
    "    my_dict[key] = 'value'\n",
    "except TypeError as e:\n",
    "    print(f\"Error: {e}\")\n"
   ]
  },
  {
   "cell_type": "markdown",
   "id": "cfe495e6-7b90-41c1-ace5-26340a9f9b0b",
   "metadata": {},
   "source": [
    "Here, using a list as a dictionary key raises a TypeError because lists are mutable and cannot be hashed."
   ]
  },
  {
   "cell_type": "markdown",
   "id": "eb2f4bf4-2445-4328-b5e8-c230db00f1e5",
   "metadata": {},
   "source": [
    "Example 3: Mutability Impact on Hashability"
   ]
  },
  {
   "cell_type": "code",
   "execution_count": 99,
   "id": "277fb6fb-fe99-4548-b759-e055aa287e55",
   "metadata": {},
   "outputs": [
    {
     "name": "stdout",
     "output_type": "stream",
     "text": [
      "Error: unhashable type: 'list'\n"
     ]
    }
   ],
   "source": [
    "# Example of using a tuple (immutable) as a key\n",
    "my_dict = {}\n",
    "key = (1, 2, 3)\n",
    "my_dict[key] = 'Tuple Key'\n",
    "\n",
    "# Now trying with a mutable version of the key (list inside the tuple)\n",
    "mutable_key = (1, 2, [3])\n",
    "\n",
    "# This will raise a TypeError because the list inside the tuple is mutable\n",
    "try:\n",
    "    my_dict[mutable_key] = 'Invalid Key'\n",
    "except TypeError as e:\n",
    "    print(f\"Error: {e}\")\n"
   ]
  },
  {
   "cell_type": "markdown",
   "id": "850dadab-50e6-4289-8b09-5634f18c4f34",
   "metadata": {},
   "source": [
    "Even though tuples are generally immutable, a tuple containing a mutable element (like a list) is not hashable, thus cannot be used as a dictionary key.\n",
    "\n",
    "Summary\n",
    "\n",
    "Dictionary keys must be immutable to ensure that their hash value remains consistent throughout the lifetime of the dictionary entry.\n",
    "\n",
    "Immutable keys allow dictionaries to perform fast and reliable lookups.\n",
    "\n",
    "Attempting to use a mutable object as a dictionary key will result in a TypeError because mutable objects can change, which would break the consistency and integrity of the dictionary."
   ]
  }
 ],
 "metadata": {
  "kernelspec": {
   "display_name": "Python 3 (ipykernel)",
   "language": "python",
   "name": "python3"
  },
  "language_info": {
   "codemirror_mode": {
    "name": "ipython",
    "version": 3
   },
   "file_extension": ".py",
   "mimetype": "text/x-python",
   "name": "python",
   "nbconvert_exporter": "python",
   "pygments_lexer": "ipython3",
   "version": "3.12.4"
  }
 },
 "nbformat": 4,
 "nbformat_minor": 5
}
